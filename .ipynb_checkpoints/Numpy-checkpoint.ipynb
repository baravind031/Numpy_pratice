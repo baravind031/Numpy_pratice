{
 "cells": [
  {
   "cell_type": "code",
   "execution_count": null,
   "id": "c0fc4718",
   "metadata": {},
   "outputs": [],
   "source": []
  },
  {
   "cell_type": "code",
   "execution_count": 1,
   "id": "43b82b7c",
   "metadata": {},
   "outputs": [],
   "source": [
    "import numpy as np"
   ]
  },
  {
   "cell_type": "code",
   "execution_count": 19,
   "id": "b340011e",
   "metadata": {},
   "outputs": [
    {
     "data": {
      "text/plain": [
       "array([1, 2, 3, 4, 5])"
      ]
     },
     "execution_count": 19,
     "metadata": {},
     "output_type": "execute_result"
    }
   ],
   "source": [
    "arr1 = np.array([1,2,3,4,5])\n",
    "arr1"
   ]
  },
  {
   "cell_type": "code",
   "execution_count": 25,
   "id": "2ad5c348",
   "metadata": {},
   "outputs": [
    {
     "name": "stdout",
     "output_type": "stream",
     "text": [
      "1\n",
      "2\n",
      "5\n",
      "[2 3 4]\n"
     ]
    }
   ],
   "source": [
    "print(arr1[0])\n",
    "print(arr1[1])\n",
    "print(arr1[-1])\n",
    "print(arr1[-4:-1])"
   ]
  },
  {
   "cell_type": "markdown",
   "id": "b87898dc",
   "metadata": {},
   "source": [
    "# 2D- array"
   ]
  },
  {
   "cell_type": "code",
   "execution_count": 33,
   "id": "dcfd7f5d",
   "metadata": {},
   "outputs": [
    {
     "data": {
      "text/plain": [
       "array([[ 1,  2,  3,  4,  5],\n",
       "       [ 6,  7,  8,  9, 10]])"
      ]
     },
     "execution_count": 33,
     "metadata": {},
     "output_type": "execute_result"
    }
   ],
   "source": [
    "arr_2d = np.array([[1,2,3,4,5],[6,7,8,9,10]])\n",
    "arr_2d"
   ]
  },
  {
   "cell_type": "code",
   "execution_count": 44,
   "id": "05f7d0f8",
   "metadata": {},
   "outputs": [
    {
     "name": "stdout",
     "output_type": "stream",
     "text": [
      "8\n",
      "5\n",
      "10\n"
     ]
    }
   ],
   "source": [
    "print(arr_2d[1,2])\n",
    "print(arr_2d[0,4])\n",
    "print(arr_2d[1,4])\n",
    " "
   ]
  },
  {
   "cell_type": "code",
   "execution_count": 47,
   "id": "66b3d66f",
   "metadata": {},
   "outputs": [
    {
     "data": {
      "text/plain": [
       "array([[[ 1,  2,  3,  4],\n",
       "        [ 5,  6,  7,  8]],\n",
       "\n",
       "       [[ 9, 10, 11, 12],\n",
       "        [13, 14, 15, 16]]])"
      ]
     },
     "execution_count": 47,
     "metadata": {},
     "output_type": "execute_result"
    }
   ],
   "source": [
    "arr_3d = np.array([[[1,2,3,4],[5,6,7,8]] , [[9,10,11,12],[13,14,15,16]]])\n",
    "arr_3d\n",
    "                   "
   ]
  },
  {
   "cell_type": "code",
   "execution_count": 51,
   "id": "ac97f97e",
   "metadata": {},
   "outputs": [
    {
     "name": "stdout",
     "output_type": "stream",
     "text": [
      "6\n",
      "4\n",
      "16\n"
     ]
    }
   ],
   "source": [
    "print(arr_3d[0,1,1])\n",
    "print(arr_3d[0,0,3]) #it will print 4 \n",
    "print(arr_3d[1, 1, 3]) "
   ]
  },
  {
   "cell_type": "markdown",
   "id": "6f9422a0",
   "metadata": {},
   "source": [
    "The first number represents the first dimension, which contains two arrays:\n",
    "One_D = [1,2,3]\n",
    "\n",
    "[[1, 2, 3, 4], [4, 5, 6, 7]]\n",
    "and:\n",
    "[[8, 9,10, 11,12], [13,14,14,16]]\n",
    "\n",
    "Since we selected 0, we are left with the first array:\n",
    "\n",
    "[[1, 2, 3, 4], [4, 5, 6, 7]]\n",
    "\n",
    "\n",
    "The second number represents the second dimension, which also contains two arrays:\n",
    "\n",
    "[1, 2, 3,4]\n",
    "and:\n",
    "[5, 6, 7, 8]\n",
    "\n",
    "Since we selected 1, we are left with the second array:\n",
    "[4, 5, 6, 7]\n",
    "\n",
    "\n",
    "The third number represents the third dimension, which contains three values:\n",
    "4\n",
    "5\n",
    "6\n",
    "7\n",
    "Since we selected 2, we end up with the third value:\n",
    "6"
   ]
  },
  {
   "cell_type": "markdown",
   "id": "63e0c5e5",
   "metadata": {},
   "source": [
    "# slicing\n"
   ]
  },
  {
   "cell_type": "code",
   "execution_count": 58,
   "id": "0623b53f",
   "metadata": {},
   "outputs": [
    {
     "name": "stdout",
     "output_type": "stream",
     "text": [
      "[0 1 2 3 4 5 6 7 8 9]\n",
      "[0 1 2 3 4 5]\n",
      "[5 6 7 8]\n",
      "[0 1 2 3]\n",
      "[9 8 7 6 5 4 3 2 1 0]\n",
      "[0 2 4 6]\n"
     ]
    }
   ],
   "source": [
    "slic = np. array([0,1,2,3,4,5,6,7,8,9])\n",
    "print(slic)\n",
    "\n",
    "print(slic[0:6])\n",
    "print(slic[-5:-1])\n",
    "print(slic[:4])\n",
    "print(slic[::-1])\n",
    "print(slic[0:8:2])"
   ]
  },
  {
   "cell_type": "markdown",
   "id": "530e8bfc",
   "metadata": {},
   "source": [
    "#  Slicing 2-D Arrays"
   ]
  },
  {
   "cell_type": "code",
   "execution_count": 66,
   "id": "a283b70a",
   "metadata": {},
   "outputs": [
    {
     "name": "stdout",
     "output_type": "stream",
     "text": [
      "[[0 1 2 3 4]\n",
      " [5 6 7 8 9]]\n"
     ]
    }
   ],
   "source": [
    "sli_2d = np.array([[0,1,2,3,4],[5,6,7,8,9]])\n",
    "print(sli_2d)"
   ]
  },
  {
   "cell_type": "code",
   "execution_count": 67,
   "id": "c4598843",
   "metadata": {},
   "outputs": [
    {
     "name": "stdout",
     "output_type": "stream",
     "text": [
      "[1 2 3 4]\n"
     ]
    }
   ],
   "source": [
    "\n",
    "print(sli_2d[0, 1:])"
   ]
  },
  {
   "cell_type": "code",
   "execution_count": 72,
   "id": "8e154c1e",
   "metadata": {},
   "outputs": [
    {
     "name": "stdout",
     "output_type": "stream",
     "text": [
      "[0 1]\n",
      "[5 6 7]\n",
      "[6 7]\n"
     ]
    }
   ],
   "source": [
    "print(sli_2d[0, 0:2])\n",
    "print(sli_2d[1, 0:3])\n",
    "print(sli_2d[1, 1:3])"
   ]
  },
  {
   "cell_type": "markdown",
   "id": "5fd8e8a8",
   "metadata": {},
   "source": [
    "# Data Types in Python"
   ]
  },
  {
   "cell_type": "markdown",
   "id": "c9f7eda2",
   "metadata": {},
   "source": [
    "By default Python have these data types:\n",
    "\n",
    "strings - used to represent text data, the text is given under quote marks. e.g. \"ABCD\"\n",
    "integer - used to represent integer numbers. e.g. -1, -2, -3\n",
    "float - used to represent real numbers. e.g. 1.2, 42.42\n",
    "boolean - used to represent True or False.\n",
    "complex - used to represent complex numbers. e.g. 1.0 + 2.0j, 1.5 + 2.5j"
   ]
  },
  {
   "cell_type": "markdown",
   "id": "b4b515c6",
   "metadata": {},
   "source": [
    "Data Types in NumPy\n",
    "NumPy has some extra data types, and refer to data types with one character, like i for integers, u for unsigned integers etc.\n",
    "\n",
    "Below is a list of all data types in NumPy and the characters used to represent them.\n",
    "\n",
    "i - integer\n",
    "\n",
    "b - boolean\n",
    "\n",
    "u - unsigned integer\n",
    "\n",
    "f - float\n",
    "\n",
    "c - complex float\n",
    "\n",
    "m - timedelta\n",
    "\n",
    "M - datetime\n",
    "\n",
    "O - object\n",
    "\n",
    "S - string\n",
    "\n",
    "U - unicode string\n",
    "\n",
    "V - fixed chunk of memory for other type ( void )"
   ]
  },
  {
   "cell_type": "markdown",
   "id": "24298676",
   "metadata": {},
   "source": [
    "Creating Arrays With a Defined Data Type\n",
    "We use the array() function to create arrays, this function can take an optional argument: dtype that allows us to define the expected data type of the array elements:\n",
    "\n"
   ]
  },
  {
   "cell_type": "code",
   "execution_count": 73,
   "id": "d70be467",
   "metadata": {},
   "outputs": [
    {
     "name": "stdout",
     "output_type": "stream",
     "text": [
      "[b'1' b'2' b'3' b'4']\n",
      "|S1\n"
     ]
    }
   ],
   "source": [
    " \n",
    "arr = np.array([1, 2, 3, 4], dtype='S')\n",
    "\n",
    "print(arr)\n",
    "print(arr.dtype)"
   ]
  },
  {
   "cell_type": "code",
   "execution_count": 74,
   "id": "bf83c9bc",
   "metadata": {},
   "outputs": [
    {
     "name": "stdout",
     "output_type": "stream",
     "text": [
      "[1 2 3 4]\n",
      "int32\n"
     ]
    }
   ],
   "source": [
    "# Create an array with data type 4 bytes integer:\n",
    "arr = np.array([1, 2, 3, 4], dtype='i4')\n",
    "\n",
    "print(arr)\n",
    "print(arr.dtype)"
   ]
  },
  {
   "cell_type": "code",
   "execution_count": null,
   "id": "90cb3959",
   "metadata": {},
   "outputs": [],
   "source": [
    "# The astype() function creates a copy of the array, and allows you to specify the data type as a parameter.\n",
    "\n"
   ]
  },
  {
   "cell_type": "code",
   "execution_count": null,
   "id": "0249e942",
   "metadata": {},
   "outputs": [],
   "source": [
    "\n",
    "print(sli_2d[0, 1:])"
   ]
  },
  {
   "cell_type": "code",
   "execution_count": 27,
   "id": "29cbb03a",
   "metadata": {},
   "outputs": [],
   "source": [
    "arr=np.array([1,2,3])"
   ]
  },
  {
   "cell_type": "code",
   "execution_count": 7,
   "id": "4dabe05a",
   "metadata": {},
   "outputs": [
    {
     "data": {
      "text/plain": [
       "array([1, 2, 3])"
      ]
     },
     "execution_count": 7,
     "metadata": {},
     "output_type": "execute_result"
    }
   ],
   "source": [
    "arr\n"
   ]
  },
  {
   "cell_type": "code",
   "execution_count": 26,
   "id": "f0288bbd",
   "metadata": {},
   "outputs": [
    {
     "data": {
      "text/plain": [
       "array([[[[[1, 2, 3]]]]])"
      ]
     },
     "execution_count": 26,
     "metadata": {},
     "output_type": "execute_result"
    }
   ],
   "source": [
    "a=np.array([1,2,3],ndmin= 5)\n",
    "a"
   ]
  },
  {
   "cell_type": "code",
   "execution_count": 10,
   "id": "7a9dbc84",
   "metadata": {},
   "outputs": [
    {
     "data": {
      "text/plain": [
       "array([1, 5, 3, 4])"
      ]
     },
     "execution_count": 10,
     "metadata": {},
     "output_type": "execute_result"
    }
   ],
   "source": [
    "new_array=np.array([1,5,3,4])\n",
    "new_array"
   ]
  },
  {
   "cell_type": "code",
   "execution_count": 11,
   "id": "1fa2f875",
   "metadata": {},
   "outputs": [
    {
     "data": {
      "text/plain": [
       "(4,)"
      ]
     },
     "execution_count": 11,
     "metadata": {},
     "output_type": "execute_result"
    }
   ],
   "source": [
    "new_array.shape"
   ]
  },
  {
   "cell_type": "code",
   "execution_count": 3,
   "id": "506fc899",
   "metadata": {},
   "outputs": [],
   "source": [
    "new_array1=np.array([[1,2,3,4],[1,2,3,4],[1,2,3,5]])"
   ]
  },
  {
   "cell_type": "code",
   "execution_count": 4,
   "id": "0efb3714",
   "metadata": {},
   "outputs": [
    {
     "data": {
      "text/plain": [
       "array([[1, 2, 3, 4],\n",
       "       [1, 2, 3, 4],\n",
       "       [1, 2, 3, 5]])"
      ]
     },
     "execution_count": 4,
     "metadata": {},
     "output_type": "execute_result"
    }
   ],
   "source": [
    "new_array1"
   ]
  },
  {
   "cell_type": "code",
   "execution_count": 30,
   "id": "2f8509ad",
   "metadata": {},
   "outputs": [
    {
     "data": {
      "text/plain": [
       "(3, 4)"
      ]
     },
     "execution_count": 30,
     "metadata": {},
     "output_type": "execute_result"
    }
   ],
   "source": [
    "new_array1.shape"
   ]
  },
  {
   "cell_type": "code",
   "execution_count": 31,
   "id": "92e0a321",
   "metadata": {},
   "outputs": [
    {
     "data": {
      "text/plain": [
       "12"
      ]
     },
     "execution_count": 31,
     "metadata": {},
     "output_type": "execute_result"
    }
   ],
   "source": [
    "new_array1.size"
   ]
  },
  {
   "cell_type": "code",
   "execution_count": 13,
   "id": "b39a48ff",
   "metadata": {},
   "outputs": [
    {
     "name": "stdout",
     "output_type": "stream",
     "text": [
      "Dimension of the array : 2\n"
     ]
    }
   ],
   "source": [
    "print(f\"Dimension of the array : {new_array1.ndim}\")"
   ]
  },
  {
   "cell_type": "code",
   "execution_count": 34,
   "id": "cb0d7c8e",
   "metadata": {},
   "outputs": [
    {
     "data": {
      "text/plain": [
       "4"
      ]
     },
     "execution_count": 34,
     "metadata": {},
     "output_type": "execute_result"
    }
   ],
   "source": [
    "#get/set elements\n",
    "new_array1[1,3]\n"
   ]
  },
  {
   "cell_type": "code",
   "execution_count": 35,
   "id": "19e5d75f",
   "metadata": {},
   "outputs": [],
   "source": [
    "new_array1[1,3]=-1"
   ]
  },
  {
   "cell_type": "code",
   "execution_count": 37,
   "id": "a53c3d04",
   "metadata": {},
   "outputs": [
    {
     "data": {
      "text/plain": [
       "array([[ 1,  2,  3,  4],\n",
       "       [ 1,  2,  3, -1],\n",
       "       [ 1,  2,  3,  5]])"
      ]
     },
     "execution_count": 37,
     "metadata": {},
     "output_type": "execute_result"
    }
   ],
   "source": [
    "new_array1"
   ]
  },
  {
   "cell_type": "code",
   "execution_count": 47,
   "id": "48afa6ab",
   "metadata": {},
   "outputs": [],
   "source": [
    "new_array1[2,3]=8"
   ]
  },
  {
   "cell_type": "code",
   "execution_count": null,
   "id": "2fbabb28",
   "metadata": {},
   "outputs": [],
   "source": []
  },
  {
   "cell_type": "code",
   "execution_count": 48,
   "id": "bbbca371",
   "metadata": {},
   "outputs": [
    {
     "data": {
      "text/plain": [
       "array([[     1,      2,      3,      4],\n",
       "       [     1,      2,      3, 818487],\n",
       "       [     1,      2,      3,      8]])"
      ]
     },
     "execution_count": 48,
     "metadata": {},
     "output_type": "execute_result"
    }
   ],
   "source": [
    "new_array1"
   ]
  },
  {
   "cell_type": "code",
   "execution_count": 63,
   "id": "7123a6d8",
   "metadata": {},
   "outputs": [],
   "source": [
    "new_array1[0]=25"
   ]
  },
  {
   "cell_type": "code",
   "execution_count": 64,
   "id": "eb08d560",
   "metadata": {},
   "outputs": [
    {
     "data": {
      "text/plain": [
       "array([[    25,     25,     25,     25],\n",
       "       [     1,    123,      3, 818487],\n",
       "       [     1,      2,      3,      8]])"
      ]
     },
     "execution_count": 64,
     "metadata": {},
     "output_type": "execute_result"
    }
   ],
   "source": [
    "new_array1"
   ]
  },
  {
   "cell_type": "code",
   "execution_count": 65,
   "id": "49dad7f4",
   "metadata": {},
   "outputs": [],
   "source": [
    "# fill , it fills all elements with same value\n",
    "new_array1.fill(1)"
   ]
  },
  {
   "cell_type": "code",
   "execution_count": 66,
   "id": "7e5973e1",
   "metadata": {},
   "outputs": [
    {
     "data": {
      "text/plain": [
       "array([[1, 1, 1, 1],\n",
       "       [1, 1, 1, 1],\n",
       "       [1, 1, 1, 1]])"
      ]
     },
     "execution_count": 66,
     "metadata": {},
     "output_type": "execute_result"
    }
   ],
   "source": [
    "new_array1"
   ]
  },
  {
   "cell_type": "code",
   "execution_count": 67,
   "id": "3cc1da56",
   "metadata": {},
   "outputs": [],
   "source": [
    "new_array1[0:2]=5"
   ]
  },
  {
   "cell_type": "code",
   "execution_count": 68,
   "id": "147e7bd0",
   "metadata": {},
   "outputs": [
    {
     "data": {
      "text/plain": [
       "array([[5, 5, 5, 5],\n",
       "       [5, 5, 5, 5],\n",
       "       [1, 1, 1, 1]])"
      ]
     },
     "execution_count": 68,
     "metadata": {},
     "output_type": "execute_result"
    }
   ],
   "source": [
    "new_array1"
   ]
  },
  {
   "cell_type": "code",
   "execution_count": 69,
   "id": "239055de",
   "metadata": {},
   "outputs": [
    {
     "data": {
      "text/plain": [
       "array([[5, 5, 5, 5],\n",
       "       [5, 5, 5, 5],\n",
       "       [1, 1, 1, 1]])"
      ]
     },
     "execution_count": 69,
     "metadata": {},
     "output_type": "execute_result"
    }
   ],
   "source": [
    "new_array1[:]"
   ]
  },
  {
   "cell_type": "code",
   "execution_count": 72,
   "id": "607cf7cd",
   "metadata": {},
   "outputs": [],
   "source": [
    "new_array1[:]=10.5"
   ]
  },
  {
   "cell_type": "code",
   "execution_count": 73,
   "id": "b8ef8a0c",
   "metadata": {},
   "outputs": [
    {
     "data": {
      "text/plain": [
       "array([[10, 10, 10, 10],\n",
       "       [10, 10, 10, 10],\n",
       "       [10, 10, 10, 10]])"
      ]
     },
     "execution_count": 73,
     "metadata": {},
     "output_type": "execute_result"
    }
   ],
   "source": [
    "new_array1"
   ]
  },
  {
   "cell_type": "code",
   "execution_count": 49,
   "id": "97c670b0",
   "metadata": {},
   "outputs": [],
   "source": [
    "new_array1[1,1]=123"
   ]
  },
  {
   "cell_type": "code",
   "execution_count": 50,
   "id": "6802549d",
   "metadata": {},
   "outputs": [
    {
     "data": {
      "text/plain": [
       "array([[     1,      2,      3,      4],\n",
       "       [     1,    123,      3, 818487],\n",
       "       [     1,      2,      3,      8]])"
      ]
     },
     "execution_count": 50,
     "metadata": {},
     "output_type": "execute_result"
    }
   ],
   "source": [
    "new_array1"
   ]
  },
  {
   "cell_type": "code",
   "execution_count": 54,
   "id": "360d10a6",
   "metadata": {},
   "outputs": [
    {
     "data": {
      "text/plain": [
       "dtype('int32')"
      ]
     },
     "execution_count": 54,
     "metadata": {},
     "output_type": "execute_result"
    }
   ],
   "source": [
    "#to check datatype\n",
    "new_array1.dtype\n"
   ]
  },
  {
   "cell_type": "code",
   "execution_count": 55,
   "id": "65957c04",
   "metadata": {},
   "outputs": [
    {
     "data": {
      "text/plain": [
       "4"
      ]
     },
     "execution_count": 55,
     "metadata": {},
     "output_type": "execute_result"
    }
   ],
   "source": [
    "#to find size of array\n",
    "new_array1.itemsize"
   ]
  },
  {
   "cell_type": "code",
   "execution_count": 57,
   "id": "35f25fc9",
   "metadata": {},
   "outputs": [
    {
     "data": {
      "text/plain": [
       "48"
      ]
     },
     "execution_count": 57,
     "metadata": {},
     "output_type": "execute_result"
    }
   ],
   "source": [
    "# to find the total bytes size of array\n",
    "new_array1.nbytes\n",
    "\n"
   ]
  },
  {
   "cell_type": "code",
   "execution_count": 58,
   "id": "5374a914",
   "metadata": {},
   "outputs": [
    {
     "data": {
      "text/plain": [
       "[[1, 2, 3, 4], [1, 123, 3, 818487], [1, 2, 3, 8]]"
      ]
     },
     "execution_count": 58,
     "metadata": {},
     "output_type": "execute_result"
    }
   ],
   "source": [
    "#conversion to list\n",
    "new_array1.tolist()"
   ]
  },
  {
   "cell_type": "code",
   "execution_count": 61,
   "id": "b53c8b2d",
   "metadata": {},
   "outputs": [],
   "source": [
    "# to copy array to another variable\n",
    "a=new_array1.copy()"
   ]
  },
  {
   "cell_type": "code",
   "execution_count": 62,
   "id": "5b6a8d3a",
   "metadata": {},
   "outputs": [
    {
     "data": {
      "text/plain": [
       "array([[     1,      2,      3,      4],\n",
       "       [     1,    123,      3, 818487],\n",
       "       [     1,      2,      3,      8]])"
      ]
     },
     "execution_count": 62,
     "metadata": {},
     "output_type": "execute_result"
    }
   ],
   "source": [
    "a"
   ]
  },
  {
   "cell_type": "code",
   "execution_count": 40,
   "id": "f558daa5",
   "metadata": {},
   "outputs": [
    {
     "data": {
      "text/plain": [
       "array([1, 2, 3, 4])"
      ]
     },
     "execution_count": 40,
     "metadata": {},
     "output_type": "execute_result"
    }
   ],
   "source": [
    "#adderss first fow using single index\n",
    "new_array1[0]\n"
   ]
  },
  {
   "cell_type": "code",
   "execution_count": 16,
   "id": "4f0b96cb",
   "metadata": {},
   "outputs": [],
   "source": [
    "new_array=np.array([[[1,2,3],[1,2,3],[1,2,3]],[[1,2,3],[1,2,3],[1,2,3]],[[1,2,3],[1,2,3],[1,2,3]]])"
   ]
  },
  {
   "cell_type": "code",
   "execution_count": 13,
   "id": "198eb792",
   "metadata": {},
   "outputs": [
    {
     "data": {
      "text/plain": [
       "array([[[1, 2, 3],\n",
       "        [1, 2, 3],\n",
       "        [1, 2, 3]],\n",
       "\n",
       "       [[1, 2, 3],\n",
       "        [1, 2, 3],\n",
       "        [1, 2, 3]],\n",
       "\n",
       "       [[1, 2, 3],\n",
       "        [1, 2, 3],\n",
       "        [1, 2, 3]]])"
      ]
     },
     "execution_count": 13,
     "metadata": {},
     "output_type": "execute_result"
    }
   ],
   "source": [
    "new_array"
   ]
  },
  {
   "cell_type": "code",
   "execution_count": 17,
   "id": "ec3b5f53",
   "metadata": {},
   "outputs": [
    {
     "data": {
      "text/plain": [
       "(3, 3, 3)"
      ]
     },
     "execution_count": 17,
     "metadata": {},
     "output_type": "execute_result"
    }
   ],
   "source": [
    "new_array.shape"
   ]
  },
  {
   "cell_type": "code",
   "execution_count": 18,
   "id": "d1b7de3a",
   "metadata": {},
   "outputs": [
    {
     "data": {
      "text/plain": [
       "3"
      ]
     },
     "execution_count": 18,
     "metadata": {},
     "output_type": "execute_result"
    }
   ],
   "source": [
    "# to check dimenction of array\n",
    "\n",
    "new_array.ndim\n"
   ]
  },
  {
   "cell_type": "code",
   "execution_count": 74,
   "id": "6ee272dc",
   "metadata": {},
   "outputs": [],
   "source": [
    "# slicing"
   ]
  },
  {
   "cell_type": "code",
   "execution_count": 90,
   "id": "6cffaf70",
   "metadata": {},
   "outputs": [],
   "source": [
    "a=np.array((0,1,2,3,4,5))"
   ]
  },
  {
   "cell_type": "code",
   "execution_count": 91,
   "id": "e05a2133",
   "metadata": {},
   "outputs": [
    {
     "data": {
      "text/plain": [
       "array([0, 1, 2, 3, 4, 5])"
      ]
     },
     "execution_count": 91,
     "metadata": {},
     "output_type": "execute_result"
    }
   ],
   "source": [
    "a"
   ]
  },
  {
   "cell_type": "code",
   "execution_count": 92,
   "id": "28a279d7",
   "metadata": {},
   "outputs": [],
   "source": [
    "b=a[2:4]"
   ]
  },
  {
   "cell_type": "code",
   "execution_count": 93,
   "id": "e2aae6df",
   "metadata": {},
   "outputs": [
    {
     "data": {
      "text/plain": [
       "array([0, 1, 2, 3, 4, 5])"
      ]
     },
     "execution_count": 93,
     "metadata": {},
     "output_type": "execute_result"
    }
   ],
   "source": [
    "a"
   ]
  },
  {
   "cell_type": "code",
   "execution_count": 94,
   "id": "2a5be97b",
   "metadata": {},
   "outputs": [
    {
     "data": {
      "text/plain": [
       "array([2, 3])"
      ]
     },
     "execution_count": 94,
     "metadata": {},
     "output_type": "execute_result"
    }
   ],
   "source": [
    "b"
   ]
  },
  {
   "cell_type": "code",
   "execution_count": null,
   "id": "c7516dc4",
   "metadata": {},
   "outputs": [],
   "source": []
  },
  {
   "cell_type": "code",
   "execution_count": null,
   "id": "2c8169ca",
   "metadata": {},
   "outputs": [],
   "source": []
  },
  {
   "cell_type": "code",
   "execution_count": null,
   "id": "154ba239",
   "metadata": {},
   "outputs": [],
   "source": []
  },
  {
   "cell_type": "markdown",
   "id": "cbeb1da0",
   "metadata": {},
   "source": [
    "# indexing"
   ]
  },
  {
   "cell_type": "code",
   "execution_count": 98,
   "id": "572e8247",
   "metadata": {},
   "outputs": [],
   "source": [
    "a=np.arange(0,100,10)"
   ]
  },
  {
   "cell_type": "code",
   "execution_count": 99,
   "id": "e930d0d3",
   "metadata": {},
   "outputs": [
    {
     "data": {
      "text/plain": [
       "array([ 0, 10, 20, 30, 40, 50, 60, 70, 80, 90])"
      ]
     },
     "execution_count": 99,
     "metadata": {},
     "output_type": "execute_result"
    }
   ],
   "source": [
    "a"
   ]
  },
  {
   "cell_type": "code",
   "execution_count": 100,
   "id": "6f016165",
   "metadata": {},
   "outputs": [],
   "source": [
    "x=a[[1,2,-4]]"
   ]
  },
  {
   "cell_type": "code",
   "execution_count": 101,
   "id": "1720f004",
   "metadata": {},
   "outputs": [
    {
     "data": {
      "text/plain": [
       "array([10, 20, 60])"
      ]
     },
     "execution_count": 101,
     "metadata": {},
     "output_type": "execute_result"
    }
   ],
   "source": [
    "x"
   ]
  },
  {
   "cell_type": "code",
   "execution_count": 104,
   "id": "0f3b51d6",
   "metadata": {},
   "outputs": [],
   "source": [
    "y=np.take(a,[0,1,2,3])"
   ]
  },
  {
   "cell_type": "code",
   "execution_count": 105,
   "id": "9598d7f2",
   "metadata": {},
   "outputs": [
    {
     "data": {
      "text/plain": [
       "array([ 0, 10, 20, 30])"
      ]
     },
     "execution_count": 105,
     "metadata": {},
     "output_type": "execute_result"
    }
   ],
   "source": [
    "y"
   ]
  },
  {
   "cell_type": "code",
   "execution_count": null,
   "id": "d9b8d5a5",
   "metadata": {},
   "outputs": [],
   "source": []
  },
  {
   "cell_type": "code",
   "execution_count": null,
   "id": "5a74fb21",
   "metadata": {},
   "outputs": [],
   "source": []
  },
  {
   "cell_type": "code",
   "execution_count": null,
   "id": "179de082",
   "metadata": {},
   "outputs": [],
   "source": []
  },
  {
   "cell_type": "code",
   "execution_count": null,
   "id": "56bd3c51",
   "metadata": {},
   "outputs": [],
   "source": []
  },
  {
   "cell_type": "code",
   "execution_count": null,
   "id": "47f1da4f",
   "metadata": {},
   "outputs": [],
   "source": []
  },
  {
   "cell_type": "markdown",
   "id": "c176f427",
   "metadata": {},
   "source": [
    "# Reshape\n"
   ]
  },
  {
   "cell_type": "code",
   "execution_count": 32,
   "id": "6c04e6be",
   "metadata": {},
   "outputs": [
    {
     "name": "stdout",
     "output_type": "stream",
     "text": [
      "[[[ 1  2]\n",
      "  [ 3  4]]\n",
      "\n",
      " [[ 5  6]\n",
      "  [ 7  8]]\n",
      "\n",
      " [[ 9 10]\n",
      "  [11 12]]]\n",
      "<class 'int'>\n"
     ]
    }
   ],
   "source": [
    "# Reshaping means changing the shape of an array.\n",
    "\n",
    "# The shape of an array is the number of elements in each dimension.\n",
    "\n",
    "# By reshaping we can add or remove dimensions or change number of elements in each dimension.\n",
    "\n",
    "\n",
    "re_arr = np.array([1,2,3,4,5,6,7,8,9,10,11,12])\n",
    "print(re_arr.reshape(3,2,2))\n",
    "print(type(re_arr.ndim))"
   ]
  },
  {
   "cell_type": "code",
   "execution_count": 24,
   "id": "7bd36915",
   "metadata": {},
   "outputs": [
    {
     "name": "stdout",
     "output_type": "stream",
     "text": [
      "[[[ 1]\n",
      "  [ 2]\n",
      "  [ 3]]\n",
      "\n",
      " [[ 4]\n",
      "  [ 5]\n",
      "  [ 6]]\n",
      "\n",
      " [[ 7]\n",
      "  [ 8]\n",
      "  [ 9]]\n",
      "\n",
      " [[10]\n",
      "  [11]\n",
      "  [12]]]\n"
     ]
    }
   ],
   "source": [
    "_arr=re_arr.reshape(4,3,-1)\n",
    "print(_arr)"
   ]
  },
  {
   "cell_type": "code",
   "execution_count": 29,
   "id": "c2c2f44b",
   "metadata": {},
   "outputs": [
    {
     "name": "stdout",
     "output_type": "stream",
     "text": [
      "3\n"
     ]
    }
   ],
   "source": [
    "print(_arr.ndim)"
   ]
  },
  {
   "cell_type": "code",
   "execution_count": null,
   "id": "f4080b35",
   "metadata": {},
   "outputs": [],
   "source": []
  },
  {
   "cell_type": "markdown",
   "id": "aa691f1a",
   "metadata": {},
   "source": [
    "# Iterating Arrays\n",
    "Iterating means going through elements one by one.\n",
    "\n",
    "As we deal with multi-dimensional arrays in numpy, we can do this using basic for loop of python.\n",
    "\n",
    "If we iterate on a 1-D array it will go through each element one by one."
   ]
  },
  {
   "cell_type": "code",
   "execution_count": 34,
   "id": "6e82143e",
   "metadata": {},
   "outputs": [
    {
     "name": "stdout",
     "output_type": "stream",
     "text": [
      "1 2 3 4 5 "
     ]
    }
   ],
   "source": [
    "ite_arr = np.array([1,2,3,4,5])\n",
    "for lis in ite_arr:\n",
    "    print(lis, end =\" \")"
   ]
  },
  {
   "cell_type": "markdown",
   "id": "31088a92",
   "metadata": {},
   "source": [
    "# Iterating 2-D Arrays\n",
    "In a 2-D array it will go through all the rows."
   ]
  },
  {
   "cell_type": "code",
   "execution_count": 37,
   "id": "14b33d31",
   "metadata": {},
   "outputs": [
    {
     "name": "stdout",
     "output_type": "stream",
     "text": [
      "2\n",
      "[1 2 3 4]\n",
      "[5 6 7 8]\n"
     ]
    }
   ],
   "source": [
    "ite_2d_arr = np.array([[1,2,3,4,],[5,6,7,8]])\n",
    "\n",
    "print(ite_2d_arr.ndim)\n",
    "\n",
    "for lis in ite_2d_arr:\n",
    "    print(lis)"
   ]
  },
  {
   "cell_type": "code",
   "execution_count": null,
   "id": "785e8e86",
   "metadata": {},
   "outputs": [],
   "source": [
    "# If we iterate on a n-D array it will go through n-1th dimension one by one."
   ]
  },
  {
   "cell_type": "code",
   "execution_count": null,
   "id": "09580897",
   "metadata": {},
   "outputs": [],
   "source": []
  },
  {
   "cell_type": "markdown",
   "id": "f70e095e",
   "metadata": {},
   "source": [
    "# Joining NumPy Arrays\n",
    "Joining means putting contents of two or more arrays in a single array.\n",
    "\n",
    "In SQL we join tables based on a key, whereas in NumPy we join arrays by axes.\n",
    "\n",
    "We pass a sequence of arrays that we want to join to the concatenate() function, along with the axis. If axis is not explicitly passed, it is taken as 0."
   ]
  },
  {
   "cell_type": "code",
   "execution_count": 18,
   "id": "2fcee134",
   "metadata": {},
   "outputs": [
    {
     "name": "stdout",
     "output_type": "stream",
     "text": [
      "[1 2 3 4 5 6]\n"
     ]
    }
   ],
   "source": [
    "arr1 = np.array([1, 2, 3])\n",
    "\n",
    "arr2 = np.array([4, 5, 6])\n",
    "\n",
    "arr = np.concatenate((arr1, arr2))\n",
    "\n",
    "print(arr)"
   ]
  },
  {
   "cell_type": "code",
   "execution_count": 21,
   "id": "0adb50b0",
   "metadata": {},
   "outputs": [
    {
     "name": "stdout",
     "output_type": "stream",
     "text": [
      "[[1 2 5 6]\n",
      " [3 4 7 8]]\n"
     ]
    }
   ],
   "source": [
    "# Join two 2-D arrays along rows (axis=1):\n",
    "\n",
    "arr1 = np.array([[1, 2], [3, 4]])\n",
    "\n",
    "arr2 = np.array([[5, 6], [7, 8]])\n",
    "\n",
    "arr = np.concatenate((arr1, arr2), axis=1)\n",
    "\n",
    "print(arr)"
   ]
  },
  {
   "cell_type": "markdown",
   "id": "07695133",
   "metadata": {},
   "source": [
    "# Joining Arrays Using Stack Functions\n",
    "Stacking is same as concatenation, the only difference is that stacking is done along a new axis.\n",
    "\n",
    "We can concatenate two 1-D arrays along the second axis which would result in putting them one over the other, ie. stacking.\n",
    "\n",
    "We pass a sequence of arrays that we want to join to the stack() method along with the axis. If axis is not explicitly passed it is taken as 0."
   ]
  },
  {
   "cell_type": "code",
   "execution_count": 22,
   "id": "5175267b",
   "metadata": {},
   "outputs": [
    {
     "name": "stdout",
     "output_type": "stream",
     "text": [
      "[[1 4]\n",
      " [2 5]\n",
      " [3 6]]\n"
     ]
    }
   ],
   "source": [
    "arr1 = np.array([1, 2, 3])\n",
    "\n",
    "arr2 = np.array([4, 5, 6])\n",
    "\n",
    "arr = np.stack((arr1, arr2), axis=1)\n",
    "\n",
    "print(arr)"
   ]
  },
  {
   "cell_type": "markdown",
   "id": "88041e25",
   "metadata": {},
   "source": [
    "# Stacking Along Rows\n",
    "NumPy provides a helper function: hstack() to stack along rows."
   ]
  },
  {
   "cell_type": "code",
   "execution_count": 23,
   "id": "22f74425",
   "metadata": {},
   "outputs": [
    {
     "name": "stdout",
     "output_type": "stream",
     "text": [
      "[1 2 3 4 5 6]\n"
     ]
    }
   ],
   "source": [
    " \n",
    "arr = np.hstack((arr1, arr2))\n",
    "\n",
    "print(arr)"
   ]
  },
  {
   "cell_type": "markdown",
   "id": "45478abd",
   "metadata": {},
   "source": [
    "# Stacking Along Columns\n",
    "NumPy provides a helper function: vstack()  to stack along columns."
   ]
  },
  {
   "cell_type": "code",
   "execution_count": 24,
   "id": "f38f8e11",
   "metadata": {},
   "outputs": [
    {
     "data": {
      "text/plain": [
       "array([[1, 2, 3],\n",
       "       [4, 5, 6]])"
      ]
     },
     "execution_count": 24,
     "metadata": {},
     "output_type": "execute_result"
    }
   ],
   "source": [
    "arr = np.vstack((arr1, arr2))\n",
    "arr"
   ]
  },
  {
   "cell_type": "markdown",
   "id": "8dff8743",
   "metadata": {},
   "source": [
    "# Stacking Along Height (depth)\n",
    "NumPy provides a helper function: dstack() to stack along height, which is the same as depth."
   ]
  },
  {
   "cell_type": "code",
   "execution_count": 25,
   "id": "da3d1ab5",
   "metadata": {},
   "outputs": [
    {
     "data": {
      "text/plain": [
       "array([[[1, 4],\n",
       "        [2, 5],\n",
       "        [3, 6]]])"
      ]
     },
     "execution_count": 25,
     "metadata": {},
     "output_type": "execute_result"
    }
   ],
   "source": [
    "arr = np.dstack((arr1, arr2))\n",
    "arr"
   ]
  },
  {
   "cell_type": "code",
   "execution_count": null,
   "id": "ad4014bc",
   "metadata": {},
   "outputs": [],
   "source": []
  },
  {
   "cell_type": "code",
   "execution_count": null,
   "id": "90a2f036",
   "metadata": {},
   "outputs": [],
   "source": []
  },
  {
   "cell_type": "code",
   "execution_count": null,
   "id": "04d053b5",
   "metadata": {},
   "outputs": [],
   "source": []
  },
  {
   "cell_type": "markdown",
   "id": "be57f931",
   "metadata": {},
   "source": [
    "# split, search , sort , Filter"
   ]
  },
  {
   "cell_type": "code",
   "execution_count": null,
   "id": "37e5c6ec",
   "metadata": {},
   "outputs": [],
   "source": []
  },
  {
   "cell_type": "code",
   "execution_count": null,
   "id": "1c262c60",
   "metadata": {},
   "outputs": [],
   "source": []
  },
  {
   "cell_type": "code",
   "execution_count": null,
   "id": "67a52c00",
   "metadata": {},
   "outputs": [],
   "source": []
  },
  {
   "cell_type": "code",
   "execution_count": null,
   "id": "9795541e",
   "metadata": {},
   "outputs": [],
   "source": []
  },
  {
   "cell_type": "markdown",
   "id": "194f482a",
   "metadata": {},
   "source": [
    "# What is a Random Number?\n",
    "Random number does NOT mean a different number every time. Random means something that can not be predicted logically.\n",
    "\n",
    "\n",
    "# Pseudo Random and True Random.\n",
    "\n",
    "Computers work on programs, and programs are definitive set of instructions. So it means there must be some algorithm to generate a random number as well.\n",
    "\n",
    "If there is a program to generate random number it can be predicted, thus it is not truly random.\n",
    "\n",
    "Random numbers generated through a generation algorithm are called pseudo random.\n",
    "\n",
    "Can we make truly random numbers?\n",
    "\n",
    "Yes. In order to generate a truly random number on our computers we need to get the random data from some outside source. This outside source is generally our keystrokes, mouse movements, data on network etc.\n",
    "\n",
    "We do not need truly random numbers, unless it is related to security (e.g. encryption keys) or the basis of application is the randomness (e.g. Digital roulette wheels)."
   ]
  },
  {
   "cell_type": "code",
   "execution_count": 54,
   "id": "a796b7d3",
   "metadata": {},
   "outputs": [],
   "source": [
    "from numpy import random"
   ]
  },
  {
   "cell_type": "code",
   "execution_count": 32,
   "id": "27e6dd20",
   "metadata": {},
   "outputs": [
    {
     "name": "stdout",
     "output_type": "stream",
     "text": [
      "6\n"
     ]
    }
   ],
   "source": [
    "\n",
    "\n",
    "ran = random.randint(10)\n",
    "\n",
    "print(ran)"
   ]
  },
  {
   "cell_type": "code",
   "execution_count": 30,
   "id": "4dfda958",
   "metadata": {},
   "outputs": [
    {
     "name": "stdout",
     "output_type": "stream",
     "text": [
      "[0.62891727 0.23635235 0.0065108  0.63884733 0.00159642 0.10751908\n",
      " 0.5024224  0.26366181 0.22233115 0.62235382]\n"
     ]
    }
   ],
   "source": [
    "#The random module's rand() method returns a random float between 0 and 1.\n",
    "\n",
    "x = random.rand(10)\n",
    "\n",
    "print(x)"
   ]
  },
  {
   "cell_type": "markdown",
   "id": "1eff8ed0",
   "metadata": {},
   "source": [
    " ### The randint() method takes a \"size =( ) \" parameter where you can specify the shape of an array."
   ]
  },
  {
   "cell_type": "code",
   "execution_count": 35,
   "id": "d5dceed4",
   "metadata": {},
   "outputs": [
    {
     "name": "stdout",
     "output_type": "stream",
     "text": [
      "[ 4 96 31 57 39]\n"
     ]
    }
   ],
   "source": [
    "ran = random.randint(100, size = (5))\n",
    "\n",
    "print(ran)"
   ]
  },
  {
   "cell_type": "code",
   "execution_count": 36,
   "id": "34d9178e",
   "metadata": {},
   "outputs": [
    {
     "name": "stdout",
     "output_type": "stream",
     "text": [
      "[[36 42 14]\n",
      " [34 39  5]\n",
      " [36 14 28]\n",
      " [76 44 51]\n",
      " [72 52 36]]\n"
     ]
    }
   ],
   "source": [
    "ran = random.randint(100, size = (5, 3))\n",
    "\n",
    "print(ran)"
   ]
  },
  {
   "cell_type": "markdown",
   "id": "8b41d41c",
   "metadata": {},
   "source": [
    "# Floats\n",
    "### The rand() method also allows you to specify the shape of the array."
   ]
  },
  {
   "cell_type": "code",
   "execution_count": 44,
   "id": "cc12648a",
   "metadata": {},
   "outputs": [
    {
     "name": "stdout",
     "output_type": "stream",
     "text": [
      "[0.10697689 0.36071575 0.7816395  0.21828965 0.8475516 ]\n",
      "[[0.62408513 0.76890165 0.12793493]\n",
      " [0.77658812 0.44214065 0.18226867]\n",
      " [0.63679272 0.36440877 0.82850118]\n",
      " [0.67503045 0.58714256 0.1905551 ]\n",
      " [0.52569037 0.71593988 0.52572959]]\n"
     ]
    }
   ],
   "source": [
    "ran1 = random.rand(5)\n",
    "rand2 =random.rand(5,3)\n",
    "print(ran1)\n",
    "\n",
    "print(rand2)"
   ]
  },
  {
   "cell_type": "markdown",
   "id": "441e777b",
   "metadata": {},
   "source": [
    "# Generate Random Number From Array\n",
    "\n",
    "The choice() method allows you to generate a random value based on an array of values.\n",
    "\n",
    "The choice() method takes an array as a parameter and randomly returns one of the values.\n",
    "\n",
    "The choice() method also allows you to return an array of values.\n",
    "\n",
    "Add a \"size=( )\" parameter to specify the shape of the array."
   ]
  },
  {
   "cell_type": "code",
   "execution_count": 53,
   "id": "0d061a18",
   "metadata": {},
   "outputs": [
    {
     "name": "stdout",
     "output_type": "stream",
     "text": [
      "5\n",
      "[[7 5 5 9 5]\n",
      " [5 5 5 3 5]\n",
      " [7 3 3 7 7]]\n"
     ]
    }
   ],
   "source": [
    "choice_0 = random.choice([4, 5, 7, 9])\n",
    "\n",
    "choice = random.choice([3, 5, 7, 9], size=(3, 5))\n",
    "\n",
    "\n",
    "print(choice_0)\n",
    "\n",
    "print(choice)"
   ]
  },
  {
   "cell_type": "code",
   "execution_count": null,
   "id": "b0945993",
   "metadata": {},
   "outputs": [],
   "source": []
  },
  {
   "cell_type": "code",
   "execution_count": null,
   "id": "31166d61",
   "metadata": {},
   "outputs": [],
   "source": []
  }
 ],
 "metadata": {
  "kernelspec": {
   "display_name": "Python 3 (ipykernel)",
   "language": "python",
   "name": "python3"
  },
  "language_info": {
   "codemirror_mode": {
    "name": "ipython",
    "version": 3
   },
   "file_extension": ".py",
   "mimetype": "text/x-python",
   "name": "python",
   "nbconvert_exporter": "python",
   "pygments_lexer": "ipython3",
   "version": "3.9.12"
  }
 },
 "nbformat": 4,
 "nbformat_minor": 5
}
